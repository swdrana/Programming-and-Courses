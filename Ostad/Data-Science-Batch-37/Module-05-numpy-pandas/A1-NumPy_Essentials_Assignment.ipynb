{
  "cells": [
    {
      "cell_type": "markdown",
      "metadata": {
        "id": "eS0S_6KnbB6g"
      },
      "source": [
        "# NumPy Essentials Practice Exercises Overview:\n",
        "Time to test the knowledge on NumPy. Lets start with simple task and move on to more challenging ones!<br>\n",
        "**Good Luck**<br>\n",
        "\n",
        "&#9758; *Please note, there are several ways to get the required output, so your code could be different then what is provided in this notebook. <br>As long as you are getting the tasks done, it is fine at this stage. *"
      ]
    },
    {
      "cell_type": "markdown",
      "metadata": {
        "id": "V76m154fbB6i"
      },
      "source": [
        "**1. What is the major difference between \"`Vector`\" and \"`Matrix`\"?**"
      ]
    },
    {
      "cell_type": "markdown",
      "metadata": {
        "collapsed": true,
        "id": "ud0SURuUbB6i"
      },
      "source": [
        "# Please consult the lectures\n",
        "Vector is a 2d array where Matrix is a 3d array"
      ]
    },
    {
      "cell_type": "markdown",
      "metadata": {
        "id": "4ZYQMMb4bB6i"
      },
      "source": [
        "**2. How to import `NumPy` library?**"
      ]
    },
    {
      "cell_type": "code",
      "execution_count": null,
      "metadata": {
        "id": "f3i474IubB6i"
      },
      "outputs": [],
      "source": [
        "# To avoid overwriting the output, please code here\n",
        "import numpy as np"
      ]
    },
    {
      "cell_type": "markdown",
      "metadata": {
        "id": "_Y3A_YK-bB6j"
      },
      "source": [
        "**3. Convert the given Python list into NumPy array and check its data type**"
      ]
    },
    {
      "cell_type": "code",
      "execution_count": 2,
      "metadata": {
        "id": "fuoU7quubB6j"
      },
      "outputs": [],
      "source": [
        "list_1 = [1,2,3,4,5]"
      ]
    },
    {
      "cell_type": "code",
      "execution_count": 4,
      "metadata": {
        "colab": {
          "base_uri": "https://localhost:8080/"
        },
        "id": "d9cNLSPWbB6j",
        "outputId": "90dff871-de2e-43e2-84c5-ef772777dd74"
      },
      "outputs": [
        {
          "data": {
            "text/plain": [
              "array([1, 2, 3, 4, 5])"
            ]
          },
          "execution_count": 4,
          "metadata": {},
          "output_type": "execute_result"
        }
      ],
      "source": [
        "# To avoid overwriting the output, please code here\n",
        "arr = np.array(list_1)\n",
        "arr"
      ]
    },
    {
      "cell_type": "code",
      "execution_count": null,
      "metadata": {
        "id": "s3FjvzL5bB6j",
        "outputId": "2320369c-4203-4fa9-aef8-b4bdc52396a5"
      },
      "outputs": [
        {
          "data": {
            "text/plain": [
              "(array([1, 2, 3, 4, 5]), numpy.ndarray)"
            ]
          },
          "execution_count": 6,
          "metadata": {},
          "output_type": "execute_result"
        }
      ],
      "source": []
    },
    {
      "cell_type": "markdown",
      "metadata": {
        "id": "cpEvjZu5bB6j"
      },
      "source": [
        "**4. Generate `array [0,1,2,3,4,5]` using NumPy built-in function, `arange()`**"
      ]
    },
    {
      "cell_type": "code",
      "execution_count": 6,
      "metadata": {
        "colab": {
          "base_uri": "https://localhost:8080/"
        },
        "collapsed": true,
        "id": "56YvHXfGbB6j",
        "outputId": "bc380206-d12c-416c-a05e-80c1a341727d"
      },
      "outputs": [
        {
          "data": {
            "text/plain": [
              "array([0, 1, 2, 3, 4, 5])"
            ]
          },
          "execution_count": 6,
          "metadata": {},
          "output_type": "execute_result"
        }
      ],
      "source": [
        "# To avoid overwriting the output, please code here\n",
        "aarray = np.arange(0,6,dtype=int)\n",
        "aarray"
      ]
    },
    {
      "cell_type": "code",
      "execution_count": null,
      "metadata": {
        "id": "2hRkSRAZbB6j",
        "outputId": "c03db8f2-3b19-410c-8d05-6cfd9a5b1e0e"
      },
      "outputs": [
        {
          "data": {
            "text/plain": [
              "array([0, 1, 2, 3, 4, 5])"
            ]
          },
          "execution_count": 8,
          "metadata": {},
          "output_type": "execute_result"
        }
      ],
      "source": []
    },
    {
      "cell_type": "markdown",
      "metadata": {
        "id": "cVZMeSw2bB6j"
      },
      "source": [
        "**5. Generate an `array of \"5\" zeros` **"
      ]
    },
    {
      "cell_type": "code",
      "execution_count": 15,
      "metadata": {
        "colab": {
          "base_uri": "https://localhost:8080/"
        },
        "collapsed": true,
        "id": "JPtRhbptbB6j",
        "outputId": "a9b39b46-de68-4a9d-d771-ff63407f6eea"
      },
      "outputs": [
        {
          "data": {
            "text/plain": [
              "array([0., 0., 0., 0., 0.])"
            ]
          },
          "execution_count": 15,
          "metadata": {},
          "output_type": "execute_result"
        }
      ],
      "source": [
        "# To avoid overwriting the output, please code here\n",
        "np.ones(5)*0"
      ]
    },
    {
      "cell_type": "code",
      "execution_count": null,
      "metadata": {
        "id": "2ZTRSg8dbB6j",
        "outputId": "7b7df481-9879-4d12-9df3-b38b5386a7a8"
      },
      "outputs": [
        {
          "data": {
            "text/plain": [
              "array([ 0.,  0.,  0.,  0.,  0.])"
            ]
          },
          "execution_count": 10,
          "metadata": {},
          "output_type": "execute_result"
        }
      ],
      "source": []
    },
    {
      "cell_type": "markdown",
      "metadata": {
        "id": "QKE1BKqubB6k"
      },
      "source": [
        "**6. Generate the following `matrix`.**"
      ]
    },
    {
      "cell_type": "code",
      "execution_count": 12,
      "metadata": {
        "colab": {
          "base_uri": "https://localhost:8080/"
        },
        "collapsed": true,
        "id": "PPDbCCF-bB6k",
        "outputId": "1d54d4f0-c933-4f17-dc36-3c6ad291a6cc"
      },
      "outputs": [
        {
          "data": {
            "text/plain": [
              "array([[0., 0., 0., 0.],\n",
              "       [0., 0., 0., 0.],\n",
              "       [0., 0., 0., 0.]])"
            ]
          },
          "execution_count": 12,
          "metadata": {},
          "output_type": "execute_result"
        }
      ],
      "source": [
        "# To avoid overwriting the output, please code here\n",
        "\n",
        "np.zeros((3,4))\n"
      ]
    },
    {
      "cell_type": "code",
      "execution_count": null,
      "metadata": {
        "id": "yX1sxbMAbB6k",
        "outputId": "7bd3a10a-b04f-4fdf-fa77-7b1e2de331e5"
      },
      "outputs": [
        {
          "data": {
            "text/plain": [
              "array([[ 0.,  0.,  0.,  0.],\n",
              "       [ 0.,  0.,  0.,  0.],\n",
              "       [ 0.,  0.,  0.,  0.]])"
            ]
          },
          "execution_count": 12,
          "metadata": {},
          "output_type": "execute_result"
        }
      ],
      "source": []
    },
    {
      "cell_type": "markdown",
      "metadata": {
        "id": "QoSZLAVTbB6k"
      },
      "source": [
        "**7. Generate** `[1.,1.,1.,1.,1.]` **using NumPy built-in function?**"
      ]
    },
    {
      "cell_type": "code",
      "execution_count": 13,
      "metadata": {
        "colab": {
          "base_uri": "https://localhost:8080/"
        },
        "collapsed": true,
        "id": "P8JCzi-kbB6k",
        "outputId": "8b4c544d-b139-4ca8-adfe-73c05b586f9a"
      },
      "outputs": [
        {
          "data": {
            "text/plain": [
              "array([1., 1., 1., 1., 1.])"
            ]
          },
          "execution_count": 13,
          "metadata": {},
          "output_type": "execute_result"
        }
      ],
      "source": [
        "# To avoid overwriting the output, please code here\n",
        "np.ones(5)"
      ]
    },
    {
      "cell_type": "code",
      "execution_count": null,
      "metadata": {
        "id": "IClpuUEKbB6k",
        "outputId": "02a23653-243c-42e8-8936-2dff476bf4e0"
      },
      "outputs": [
        {
          "name": "stdout",
          "output_type": "stream",
          "text": [
            "[ 1.  1.  1.  1.  1.]\n"
          ]
        }
      ],
      "source": []
    },
    {
      "cell_type": "markdown",
      "metadata": {
        "id": "brjWTWwnbB6k"
      },
      "source": [
        "**8. Generate an array of \"5\" tens.**"
      ]
    },
    {
      "cell_type": "code",
      "execution_count": 15,
      "metadata": {
        "colab": {
          "base_uri": "https://localhost:8080/"
        },
        "collapsed": true,
        "id": "RmRhx0RsbB6k",
        "outputId": "a149cc43-8856-4b0c-e349-cfaea48e96ad"
      },
      "outputs": [
        {
          "data": {
            "text/plain": [
              "array([10., 10., 10., 10., 10.])"
            ]
          },
          "execution_count": 15,
          "metadata": {},
          "output_type": "execute_result"
        }
      ],
      "source": [
        "# To avoid overwriting the output, please code here\n",
        "np.ones(5)*10"
      ]
    },
    {
      "cell_type": "code",
      "execution_count": null,
      "metadata": {
        "id": "vh41yLpEbB6k",
        "outputId": "3934ef4f-eade-425b-aa4a-63fda580680d"
      },
      "outputs": [
        {
          "data": {
            "text/plain": [
              "array([10., 10., 10., 10., 10.])"
            ]
          },
          "execution_count": 1,
          "metadata": {},
          "output_type": "execute_result"
        }
      ],
      "source": []
    },
    {
      "cell_type": "markdown",
      "metadata": {
        "id": "UJdQJ2I9bB6k"
      },
      "source": [
        "**9. Use `arange()` to generate an array of even numbers between 50 and 100.**<br>\n",
        "*50 and 100 are not included*"
      ]
    },
    {
      "cell_type": "code",
      "execution_count": 18,
      "metadata": {
        "colab": {
          "base_uri": "https://localhost:8080/"
        },
        "collapsed": true,
        "id": "y0UHp6CDbB6k",
        "outputId": "3745a5a1-7203-4c8f-b1cc-d3be84f2dccb"
      },
      "outputs": [
        {
          "data": {
            "text/plain": [
              "array([52, 54, 56, 58, 60, 62, 64, 66, 68, 70, 72, 74, 76, 78, 80, 82, 84,\n",
              "       86, 88, 90, 92, 94, 96, 98])"
            ]
          },
          "execution_count": 18,
          "metadata": {},
          "output_type": "execute_result"
        }
      ],
      "source": [
        "# To avoid overwriting the output, please code here\n",
        "np.arange(52,100,2)"
      ]
    },
    {
      "cell_type": "code",
      "execution_count": null,
      "metadata": {
        "id": "GY8Y6Tr0bB6k",
        "outputId": "1a303827-d8d8-497a-f733-7fac252dd5ae"
      },
      "outputs": [
        {
          "data": {
            "text/plain": [
              "array([52, 54, 56, 58, 60, 62, 64, 66, 68, 70, 72, 74, 76, 78, 80, 82, 84,\n",
              "       86, 88, 90, 92, 94, 96, 98])"
            ]
          },
          "execution_count": 18,
          "metadata": {},
          "output_type": "execute_result"
        }
      ],
      "source": []
    },
    {
      "cell_type": "markdown",
      "metadata": {
        "id": "1hVmDZNpbB6k"
      },
      "source": [
        "**10. Generate an array of 10 linearly spaced points between 0 and 1.**<br>\n",
        "**Output step size as well?**"
      ]
    },
    {
      "cell_type": "code",
      "execution_count": 19,
      "metadata": {
        "colab": {
          "base_uri": "https://localhost:8080/"
        },
        "collapsed": true,
        "id": "MGkqXIHKbB6k",
        "outputId": "4d2c3987-6319-4954-9b10-36cecf5d2846"
      },
      "outputs": [
        {
          "data": {
            "text/plain": [
              "array([0.        , 0.11111111, 0.22222222, 0.33333333, 0.44444444,\n",
              "       0.55555556, 0.66666667, 0.77777778, 0.88888889, 1.        ])"
            ]
          },
          "execution_count": 19,
          "metadata": {},
          "output_type": "execute_result"
        }
      ],
      "source": [
        "# To avoid overwriting the output, please code here\n",
        "np.linspace(0,1,10)"
      ]
    },
    {
      "cell_type": "code",
      "execution_count": null,
      "metadata": {
        "id": "7Z1nzzNfbB6k",
        "outputId": "1e663279-ee7d-4be0-d4e8-5746f0ebed6b"
      },
      "outputs": [
        {
          "data": {
            "text/plain": [
              "(array([ 0.        ,  0.11111111,  0.22222222,  0.33333333,  0.44444444,\n",
              "         0.55555556,  0.66666667,  0.77777778,  0.88888889,  1.        ]),\n",
              " 0.1111111111111111)"
            ]
          },
          "execution_count": 20,
          "metadata": {},
          "output_type": "execute_result"
        }
      ],
      "source": []
    },
    {
      "cell_type": "markdown",
      "metadata": {
        "id": "EBc5fJEAbB6k"
      },
      "source": [
        "**11. Perform the following tasks:**\n",
        "* Generate a **`vector array of 25`** numbers using **`arange()`**\n",
        "* write a code to convert the vector array into **`2-D matrix using reshape`**\n",
        "* can we use **`shape`** instead of reshape as well?"
      ]
    },
    {
      "cell_type": "code",
      "execution_count": 22,
      "metadata": {
        "colab": {
          "base_uri": "https://localhost:8080/"
        },
        "collapsed": true,
        "id": "nlP0qtpDbB6l",
        "outputId": "124b7c16-0152-42ee-c161-763e4ebc8dde"
      },
      "outputs": [
        {
          "data": {
            "text/plain": [
              "array([ 0,  1,  2,  3,  4,  5,  6,  7,  8,  9, 10, 11, 12, 13, 14, 15, 16,\n",
              "       17, 18, 19, 20, 21, 22, 23, 24])"
            ]
          },
          "execution_count": 22,
          "metadata": {},
          "output_type": "execute_result"
        }
      ],
      "source": [
        "# To avoid overwriting the output, please code here\n",
        "\n",
        "# Generate a vector array of 25 numbers\n",
        "vector_array = np.arange(25)\n",
        "\n",
        "vector_array"
      ]
    },
    {
      "cell_type": "code",
      "execution_count": null,
      "metadata": {
        "id": "EX-ANblzbB6l",
        "outputId": "cdc002de-473e-4bf0-bd28-dd22870e8786",
        "scrolled": true
      },
      "outputs": [
        {
          "data": {
            "text/plain": [
              "array([ 0,  1,  2,  3,  4,  5,  6,  7,  8,  9, 10, 11, 12, 13, 14, 15, 16,\n",
              "       17, 18, 19, 20, 21, 22, 23, 24])"
            ]
          },
          "execution_count": 22,
          "metadata": {},
          "output_type": "execute_result"
        }
      ],
      "source": [
        "# Generating vector array"
      ]
    },
    {
      "cell_type": "code",
      "execution_count": 23,
      "metadata": {
        "colab": {
          "base_uri": "https://localhost:8080/"
        },
        "collapsed": true,
        "id": "dWU8uFw8bB6l",
        "outputId": "29581754-1ce4-4e38-9f40-5b03f289550c"
      },
      "outputs": [
        {
          "data": {
            "text/plain": [
              "array([[ 0,  1,  2,  3,  4],\n",
              "       [ 5,  6,  7,  8,  9],\n",
              "       [10, 11, 12, 13, 14],\n",
              "       [15, 16, 17, 18, 19],\n",
              "       [20, 21, 22, 23, 24]])"
            ]
          },
          "execution_count": 23,
          "metadata": {},
          "output_type": "execute_result"
        }
      ],
      "source": [
        "# To avoid overwriting the output, please code here\n",
        "# Convert the vector array into a 2-D matrix using reshape\n",
        "matrix = vector_array.reshape(5, 5)\n",
        "matrix"
      ]
    },
    {
      "cell_type": "code",
      "execution_count": null,
      "metadata": {
        "id": "rD8ZwhbHbB6l",
        "outputId": "4f7bac67-92dd-4197-cd70-1dcb65039876",
        "scrolled": true
      },
      "outputs": [
        {
          "data": {
            "text/plain": [
              "array([[ 0,  1,  2,  3,  4],\n",
              "       [ 5,  6,  7,  8,  9],\n",
              "       [10, 11, 12, 13, 14],\n",
              "       [15, 16, 17, 18, 19],\n",
              "       [20, 21, 22, 23, 24]])"
            ]
          },
          "execution_count": 24,
          "metadata": {},
          "output_type": "execute_result"
        }
      ],
      "source": [
        "# reshape to convert into 2-d"
      ]
    },
    {
      "cell_type": "code",
      "execution_count": null,
      "metadata": {
        "collapsed": true,
        "id": "y80gCJBxbB6l"
      },
      "outputs": [],
      "source": [
        "# To avoid overwriting the output, please code here"
      ]
    },
    {
      "cell_type": "code",
      "execution_count": null,
      "metadata": {
        "id": "_K4Oqf4pbB6l",
        "outputId": "3c2d1c65-32a3-4d3a-e3c9-a816a667e513",
        "scrolled": true
      },
      "outputs": [
        {
          "data": {
            "text/plain": [
              "array([[ 0,  1,  2,  3,  4],\n",
              "       [ 5,  6,  7,  8,  9],\n",
              "       [10, 11, 12, 13, 14],\n",
              "       [15, 16, 17, 18, 19],\n",
              "       [20, 21, 22, 23, 24]])"
            ]
          },
          "execution_count": 26,
          "metadata": {},
          "output_type": "execute_result"
        }
      ],
      "source": [
        "# Using shape"
      ]
    },
    {
      "cell_type": "markdown",
      "metadata": {
        "id": "B3EE_CL7bB6l"
      },
      "source": [
        "**12. Please generate the following matrix.**\n",
        "\n",
        "\n"
      ]
    },
    {
      "cell_type": "code",
      "execution_count": 24,
      "metadata": {
        "colab": {
          "base_uri": "https://localhost:8080/"
        },
        "collapsed": true,
        "id": "JXWaWlLPbB6l",
        "outputId": "2d4ca241-e834-4aa5-d74b-cfe0903d91e1"
      },
      "outputs": [
        {
          "data": {
            "text/plain": [
              "array([[0.1, 0.2, 0.3, 0.4, 0.5],\n",
              "       [0.6, 0.7, 0.8, 0.9, 1. ],\n",
              "       [1.1, 1.2, 1.3, 1.4, 1.5],\n",
              "       [1.6, 1.7, 1.8, 1.9, 2. ],\n",
              "       [2.1, 2.2, 2.3, 2.4, 2.5]])"
            ]
          },
          "execution_count": 24,
          "metadata": {},
          "output_type": "execute_result"
        }
      ],
      "source": [
        "# To avoid overwriting the output, please code here\n",
        "np.array([[0.1, 0.2, 0.3, 0.4, 0.5],\n",
        "          [0.6, 0.7, 0.8, 0.9, 1.0],\n",
        "          [1.1, 1.2, 1.3, 1.4, 1.5],\n",
        "          [1.6, 1.7, 1.8, 1.9, 2.0],\n",
        "          [2.1, 2.2, 2.3, 2.4, 2.5]])"
      ]
    },
    {
      "cell_type": "code",
      "execution_count": null,
      "metadata": {
        "id": "Bb0o_8bcbB6q",
        "outputId": "2994c018-bdbc-45f2-9a81-6534ae8be30f",
        "scrolled": false
      },
      "outputs": [
        {
          "data": {
            "text/plain": [
              "array([[0.1, 0.2, 0.3, 0.4, 0.5],\n",
              "       [0.6, 0.7, 0.8, 0.9, 1. ],\n",
              "       [1.1, 1.2, 1.3, 1.4, 1.5],\n",
              "       [1.6, 1.7, 1.8, 1.9, 2. ],\n",
              "       [2.1, 2.2, 2.3, 2.4, 2.5]])"
            ]
          },
          "execution_count": 14,
          "metadata": {},
          "output_type": "execute_result"
        }
      ],
      "source": []
    },
    {
      "cell_type": "markdown",
      "metadata": {
        "id": "sMdHhYDgbB6q"
      },
      "source": [
        "**13. Write a code to generate the output below, use \"`linspace()`\" and \"`print()`\"**"
      ]
    },
    {
      "cell_type": "code",
      "execution_count": 25,
      "metadata": {
        "colab": {
          "base_uri": "https://localhost:8080/"
        },
        "collapsed": true,
        "id": "WPKqxk9XbB6q",
        "outputId": "190c7e8b-8603-4eab-e765-b35448ec4e0b"
      },
      "outputs": [
        {
          "name": "stdout",
          "output_type": "stream",
          "text": [
            "[[ 0  1  2  3  4]\n",
            " [ 5  6  7  8  9]\n",
            " [10 11 12 13 14]\n",
            " [15 16 17 18 19]\n",
            " [20 21 22 23 24]]\n"
          ]
        }
      ],
      "source": [
        "# To avoid overwriting the output, please code here\n",
        "\n",
        "# Generate an array of 25 integers using linspace\n",
        "array_1d = np.linspace(0, 24, 25, dtype=int)\n",
        "\n",
        "# Reshape it into a 5x5 matrix\n",
        "matrix = array_1d.reshape(5, 5)\n",
        "\n",
        "# Print the matrix\n",
        "print(matrix)"
      ]
    },
    {
      "cell_type": "code",
      "execution_count": null,
      "metadata": {
        "id": "0PBkhGxgbB6q",
        "outputId": "3c402dc4-cf64-4726-df6e-d4251ca686a6"
      },
      "outputs": [
        {
          "data": {
            "text/plain": [
              "array([[ 0,  1,  2,  3,  4],\n",
              "       [ 5,  6,  7,  8,  9],\n",
              "       [10, 11, 12, 13, 14],\n",
              "       [15, 16, 17, 18, 19],\n",
              "       [20, 21, 22, 23, 24]])"
            ]
          },
          "execution_count": 27,
          "metadata": {},
          "output_type": "execute_result"
        }
      ],
      "source": []
    },
    {
      "cell_type": "markdown",
      "metadata": {
        "id": "SX_c0lV7bB6q"
      },
      "source": [
        "**14. What is the main difference between `linspace()` and `arange()`?**"
      ]
    },
    {
      "cell_type": "code",
      "execution_count": 31,
      "metadata": {
        "colab": {
          "base_uri": "https://localhost:8080/"
        },
        "collapsed": true,
        "id": "haEFwrEBbB6q",
        "outputId": "9ea3283b-0d66-4e10-b257-eabd6f0f990e"
      },
      "outputs": [
        {
          "data": {
            "text/plain": [
              "array([0.  , 0.25, 0.5 , 0.75, 1.  ])"
            ]
          },
          "execution_count": 31,
          "metadata": {},
          "output_type": "execute_result"
        }
      ],
      "source": [
        "# Please consult the lectures.\n",
        "#arange() specifies a step size between values, while linspace() specifies the number of evenly spaced points between a start and end value.\n",
        "\n",
        "# arange() takes 3rd argument as step size.\n",
        "# linspace() take 3rd argument as no of point we want.\n",
        "\n",
        "# Using arange\n",
        "np.arange(0, 1, 0.2)  # Output: [0.  0.2 0.4 0.6 0.8]\n",
        "\n",
        "# Using linspace\n",
        "np.linspace(0, 1, 5)  # Output: [0.  0.25 0.5 0.75 1. ]\n"
      ]
    },
    {
      "cell_type": "markdown",
      "metadata": {
        "id": "3WIi6L0hbB6q"
      },
      "source": [
        "**15. How to generate a single random integer number using NumPy built-in\n",
        "function?**"
      ]
    },
    {
      "cell_type": "code",
      "execution_count": 34,
      "metadata": {
        "colab": {
          "base_uri": "https://localhost:8080/"
        },
        "collapsed": true,
        "id": "Ak33x8nFbB6q",
        "outputId": "d6b78010-8ae7-4fff-f9c7-262f06f466bd"
      },
      "outputs": [
        {
          "data": {
            "text/plain": [
              "7"
            ]
          },
          "execution_count": 34,
          "metadata": {},
          "output_type": "execute_result"
        }
      ],
      "source": [
        "# To avoid overwriting the output, please code here\n",
        "np.random.randint(1,10)"
      ]
    },
    {
      "cell_type": "code",
      "execution_count": null,
      "metadata": {
        "id": "1--JuSTXbB6q"
      },
      "outputs": [],
      "source": []
    },
    {
      "cell_type": "markdown",
      "metadata": {
        "id": "EzCJt59TbB6q"
      },
      "source": [
        "**16. Write a code to generate a 7x5 matrix of 35 random numbers? use rand here** <br>\n",
        "*Notice, there are no ( ) in the output matrix!*"
      ]
    },
    {
      "cell_type": "code",
      "execution_count": 35,
      "metadata": {
        "colab": {
          "base_uri": "https://localhost:8080/"
        },
        "collapsed": true,
        "id": "By5D0aG6bB6q",
        "outputId": "d011b5cb-21bd-4069-a20e-ffd2cba435f4"
      },
      "outputs": [
        {
          "name": "stdout",
          "output_type": "stream",
          "text": [
            "[[0.70307018 0.18109051 0.81521437 0.78225454 0.57391978]\n",
            " [0.39852712 0.96241425 0.64319932 0.52730331 0.68057505]\n",
            " [0.57533329 0.9473941  0.17409183 0.03305215 0.76123715]\n",
            " [0.50282773 0.27813829 0.11533343 0.83553239 0.30813362]\n",
            " [0.69714433 0.61506385 0.03232048 0.9931512  0.54837231]\n",
            " [0.18682095 0.75131171 0.74781277 0.48001564 0.45013666]\n",
            " [0.23229326 0.19944773 0.72863956 0.06048534 0.94225981]]\n"
          ]
        }
      ],
      "source": [
        "# To avoid overwriting the output, please code here\n",
        "matrix = np.random.rand(7, 5)\n",
        "print(matrix)"
      ]
    },
    {
      "cell_type": "code",
      "execution_count": null,
      "metadata": {
        "id": "tfg9so1sbB6r",
        "outputId": "3efa020b-beb0-463d-9020-e2132936822b"
      },
      "outputs": [
        {
          "name": "stdout",
          "output_type": "stream",
          "text": [
            "[[ 0.99598801  0.07546767  0.17484793  0.25229956  0.4693597 ]\n",
            " [ 0.5591561   0.5007227   0.93630239  0.48747691  0.78658124]\n",
            " [ 0.98923838  0.04124599  0.71326198  0.51252888  0.36130539]\n",
            " [ 0.11558779  0.52914213  0.31134907  0.8047612   0.25759207]\n",
            " [ 0.87331331  0.77104413  0.960445    0.1732589   0.83339285]\n",
            " [ 0.99839604  0.78268012  0.66487603  0.14509928  0.05670129]\n",
            " [ 0.15932364  0.848172    0.51343887  0.06309231  0.29250649]]\n"
          ]
        }
      ],
      "source": []
    },
    {
      "cell_type": "markdown",
      "metadata": {
        "id": "qSFgBTWmbB6r"
      },
      "source": [
        "**17. Generate the following matrix using NumPy's built-in method for identity matrix.**"
      ]
    },
    {
      "cell_type": "code",
      "execution_count": 37,
      "metadata": {
        "colab": {
          "base_uri": "https://localhost:8080/"
        },
        "collapsed": true,
        "id": "HvONpm3VbB6r",
        "outputId": "7984fc51-87c3-4959-cd1f-4e68e424dd94"
      },
      "outputs": [
        {
          "data": {
            "text/plain": [
              "array([[5., 0., 0., 0., 0.],\n",
              "       [0., 5., 0., 0., 0.],\n",
              "       [0., 0., 5., 0., 0.],\n",
              "       [0., 0., 0., 5., 0.],\n",
              "       [0., 0., 0., 0., 5.]])"
            ]
          },
          "execution_count": 37,
          "metadata": {},
          "output_type": "execute_result"
        }
      ],
      "source": [
        "# To avoid overwriting the output, please code here\n",
        "5 * np.eye(5)"
      ]
    },
    {
      "cell_type": "code",
      "execution_count": null,
      "metadata": {
        "id": "GetAnH0cbB6r",
        "outputId": "591ed790-d439-4090-91e6-abf70cdc6fc7"
      },
      "outputs": [
        {
          "data": {
            "text/plain": [
              "array([[5., 0., 0., 0., 0.],\n",
              "       [0., 5., 0., 0., 0.],\n",
              "       [0., 0., 5., 0., 0.],\n",
              "       [0., 0., 0., 5., 0.],\n",
              "       [0., 0., 0., 0., 5.]])"
            ]
          },
          "execution_count": 30,
          "metadata": {},
          "output_type": "execute_result"
        }
      ],
      "source": []
    },
    {
      "cell_type": "markdown",
      "metadata": {
        "collapsed": true,
        "id": "vOnVWDhubB6r"
      },
      "source": [
        "### You must be feeling comfortable using NumPy now!\n",
        "# Great Job and Good Luck"
      ]
    }
  ],
  "metadata": {
    "colab": {
      "provenance": []
    },
    "kernelspec": {
      "display_name": "Python 3",
      "language": "python",
      "name": "python3"
    },
    "language_info": {
      "codemirror_mode": {
        "name": "ipython",
        "version": 3
      },
      "file_extension": ".py",
      "mimetype": "text/x-python",
      "name": "python",
      "nbconvert_exporter": "python",
      "pygments_lexer": "ipython3",
      "version": "3.9.17"
    }
  },
  "nbformat": 4,
  "nbformat_minor": 0
}
